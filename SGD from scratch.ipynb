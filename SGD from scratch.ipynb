{
 "cells": [
  {
   "cell_type": "code",
   "execution_count": 1,
   "id": "b8229f07",
   "metadata": {},
   "outputs": [],
   "source": [
    "import pandas as pd\n",
    "import matplotlib.pyplot as plt\n",
    "import numpy as np\n",
    "from random import random\n",
    "%matplotlib inline"
   ]
  },
  {
   "cell_type": "code",
   "execution_count": 2,
   "id": "03caa542",
   "metadata": {},
   "outputs": [
    {
     "data": {
      "text/html": [
       "<div>\n",
       "<style scoped>\n",
       "    .dataframe tbody tr th:only-of-type {\n",
       "        vertical-align: middle;\n",
       "    }\n",
       "\n",
       "    .dataframe tbody tr th {\n",
       "        vertical-align: top;\n",
       "    }\n",
       "\n",
       "    .dataframe thead th {\n",
       "        text-align: right;\n",
       "    }\n",
       "</style>\n",
       "<table border=\"1\" class=\"dataframe\">\n",
       "  <thead>\n",
       "    <tr style=\"text-align: right;\">\n",
       "      <th></th>\n",
       "      <th>imdb_title_id</th>\n",
       "      <th>title</th>\n",
       "      <th>year</th>\n",
       "      <th>genre</th>\n",
       "      <th>duration</th>\n",
       "      <th>country</th>\n",
       "      <th>avg_vote</th>\n",
       "      <th>votes</th>\n",
       "      <th>budget</th>\n",
       "      <th>metascore</th>\n",
       "      <th>reviews_from_users</th>\n",
       "      <th>reviews_from_critics</th>\n",
       "    </tr>\n",
       "  </thead>\n",
       "  <tbody>\n",
       "    <tr>\n",
       "      <th>0</th>\n",
       "      <td>tt0002101</td>\n",
       "      <td>Cleopatra</td>\n",
       "      <td>1912</td>\n",
       "      <td>Drama, History</td>\n",
       "      <td>100</td>\n",
       "      <td>USA</td>\n",
       "      <td>5.2</td>\n",
       "      <td>446</td>\n",
       "      <td>45000.0</td>\n",
       "      <td>NaN</td>\n",
       "      <td>25.0</td>\n",
       "      <td>3.0</td>\n",
       "    </tr>\n",
       "    <tr>\n",
       "      <th>1</th>\n",
       "      <td>tt0002199</td>\n",
       "      <td>From the Manger to the Cross; or, Jesus of Naz...</td>\n",
       "      <td>1912</td>\n",
       "      <td>Biography, Drama</td>\n",
       "      <td>60</td>\n",
       "      <td>USA</td>\n",
       "      <td>5.7</td>\n",
       "      <td>484</td>\n",
       "      <td>NaN</td>\n",
       "      <td>NaN</td>\n",
       "      <td>13.0</td>\n",
       "      <td>5.0</td>\n",
       "    </tr>\n",
       "    <tr>\n",
       "      <th>2</th>\n",
       "      <td>tt0002461</td>\n",
       "      <td>Richard III</td>\n",
       "      <td>1912</td>\n",
       "      <td>Drama</td>\n",
       "      <td>55</td>\n",
       "      <td>France, USA</td>\n",
       "      <td>5.5</td>\n",
       "      <td>225</td>\n",
       "      <td>30000.0</td>\n",
       "      <td>NaN</td>\n",
       "      <td>8.0</td>\n",
       "      <td>1.0</td>\n",
       "    </tr>\n",
       "    <tr>\n",
       "      <th>3</th>\n",
       "      <td>tt0003167</td>\n",
       "      <td>Amore di madre</td>\n",
       "      <td>1914</td>\n",
       "      <td>Drama</td>\n",
       "      <td>55</td>\n",
       "      <td>USA</td>\n",
       "      <td>5.8</td>\n",
       "      <td>187</td>\n",
       "      <td>NaN</td>\n",
       "      <td>NaN</td>\n",
       "      <td>6.0</td>\n",
       "      <td>NaN</td>\n",
       "    </tr>\n",
       "    <tr>\n",
       "      <th>4</th>\n",
       "      <td>tt0003419</td>\n",
       "      <td>Lo studente di Praga</td>\n",
       "      <td>1913</td>\n",
       "      <td>Drama, Fantasy, Horror</td>\n",
       "      <td>85</td>\n",
       "      <td>Germany</td>\n",
       "      <td>6.5</td>\n",
       "      <td>1768</td>\n",
       "      <td>NaN</td>\n",
       "      <td>NaN</td>\n",
       "      <td>20.0</td>\n",
       "      <td>26.0</td>\n",
       "    </tr>\n",
       "  </tbody>\n",
       "</table>\n",
       "</div>"
      ],
      "text/plain": [
       "  imdb_title_id                                              title  year  \\\n",
       "0     tt0002101                                          Cleopatra  1912   \n",
       "1     tt0002199  From the Manger to the Cross; or, Jesus of Naz...  1912   \n",
       "2     tt0002461                                        Richard III  1912   \n",
       "3     tt0003167                                     Amore di madre  1914   \n",
       "4     tt0003419                               Lo studente di Praga  1913   \n",
       "\n",
       "                    genre  duration      country  avg_vote  votes   budget  \\\n",
       "0          Drama, History       100          USA       5.2    446  45000.0   \n",
       "1        Biography, Drama        60          USA       5.7    484      NaN   \n",
       "2                   Drama        55  France, USA       5.5    225  30000.0   \n",
       "3                   Drama        55          USA       5.8    187      NaN   \n",
       "4  Drama, Fantasy, Horror        85      Germany       6.5   1768      NaN   \n",
       "\n",
       "   metascore  reviews_from_users  reviews_from_critics  \n",
       "0        NaN                25.0                   3.0  \n",
       "1        NaN                13.0                   5.0  \n",
       "2        NaN                 8.0                   1.0  \n",
       "3        NaN                 6.0                   NaN  \n",
       "4        NaN                20.0                  26.0  "
      ]
     },
     "execution_count": 2,
     "metadata": {},
     "output_type": "execute_result"
    }
   ],
   "source": [
    "df = pd.read_csv('imdb_dataset.csv')\n",
    "df.head()"
   ]
  },
  {
   "cell_type": "markdown",
   "id": "3d4bb775",
   "metadata": {},
   "source": [
    "## Version with one column"
   ]
  },
  {
   "cell_type": "code",
   "execution_count": 3,
   "id": "c5aa515c",
   "metadata": {},
   "outputs": [
    {
     "data": {
      "text/html": [
       "<div>\n",
       "<style scoped>\n",
       "    .dataframe tbody tr th:only-of-type {\n",
       "        vertical-align: middle;\n",
       "    }\n",
       "\n",
       "    .dataframe tbody tr th {\n",
       "        vertical-align: top;\n",
       "    }\n",
       "\n",
       "    .dataframe thead th {\n",
       "        text-align: right;\n",
       "    }\n",
       "</style>\n",
       "<table border=\"1\" class=\"dataframe\">\n",
       "  <thead>\n",
       "    <tr style=\"text-align: right;\">\n",
       "      <th></th>\n",
       "      <th>avg_vote</th>\n",
       "      <th>metascore</th>\n",
       "    </tr>\n",
       "  </thead>\n",
       "  <tbody>\n",
       "    <tr>\n",
       "      <th>46</th>\n",
       "      <td>7.8</td>\n",
       "      <td>99.0</td>\n",
       "    </tr>\n",
       "    <tr>\n",
       "      <th>309</th>\n",
       "      <td>6.5</td>\n",
       "      <td>66.0</td>\n",
       "    </tr>\n",
       "    <tr>\n",
       "      <th>348</th>\n",
       "      <td>8.1</td>\n",
       "      <td>90.0</td>\n",
       "    </tr>\n",
       "    <tr>\n",
       "      <th>400</th>\n",
       "      <td>7.0</td>\n",
       "      <td>69.0</td>\n",
       "    </tr>\n",
       "    <tr>\n",
       "      <th>458</th>\n",
       "      <td>7.1</td>\n",
       "      <td>89.0</td>\n",
       "    </tr>\n",
       "    <tr>\n",
       "      <th>...</th>\n",
       "      <td>...</td>\n",
       "      <td>...</td>\n",
       "    </tr>\n",
       "    <tr>\n",
       "      <th>47426</th>\n",
       "      <td>5.2</td>\n",
       "      <td>44.0</td>\n",
       "    </tr>\n",
       "    <tr>\n",
       "      <th>47427</th>\n",
       "      <td>5.7</td>\n",
       "      <td>68.0</td>\n",
       "    </tr>\n",
       "    <tr>\n",
       "      <th>47439</th>\n",
       "      <td>5.8</td>\n",
       "      <td>68.0</td>\n",
       "    </tr>\n",
       "    <tr>\n",
       "      <th>47441</th>\n",
       "      <td>6.1</td>\n",
       "      <td>72.0</td>\n",
       "    </tr>\n",
       "    <tr>\n",
       "      <th>47443</th>\n",
       "      <td>5.1</td>\n",
       "      <td>35.0</td>\n",
       "    </tr>\n",
       "  </tbody>\n",
       "</table>\n",
       "<p>11536 rows × 2 columns</p>\n",
       "</div>"
      ],
      "text/plain": [
       "       avg_vote  metascore\n",
       "46          7.8       99.0\n",
       "309         6.5       66.0\n",
       "348         8.1       90.0\n",
       "400         7.0       69.0\n",
       "458         7.1       89.0\n",
       "...         ...        ...\n",
       "47426       5.2       44.0\n",
       "47427       5.7       68.0\n",
       "47439       5.8       68.0\n",
       "47441       6.1       72.0\n",
       "47443       5.1       35.0\n",
       "\n",
       "[11536 rows x 2 columns]"
      ]
     },
     "execution_count": 3,
     "metadata": {},
     "output_type": "execute_result"
    }
   ],
   "source": [
    "df1 = df[['avg_vote','metascore']]\n",
    "df1 = df1.dropna()\n",
    "df1"
   ]
  },
  {
   "cell_type": "code",
   "execution_count": 4,
   "id": "bb416bea",
   "metadata": {},
   "outputs": [],
   "source": [
    "X = df1['metascore']\n",
    "y = df1['avg_vote']"
   ]
  },
  {
   "cell_type": "markdown",
   "id": "6b471ff0",
   "metadata": {},
   "source": [
    "## Normalizing our variables"
   ]
  },
  {
   "cell_type": "code",
   "execution_count": 5,
   "id": "1d0e98d8",
   "metadata": {},
   "outputs": [
    {
     "data": {
      "text/plain": [
       "array([ 2.51970144,  0.66105393,  2.01279757, ...,  0.77369923,\n",
       "        0.99898984, -1.08494828])"
      ]
     },
     "execution_count": 5,
     "metadata": {},
     "output_type": "execute_result"
    }
   ],
   "source": [
    "X = np.array((X-X.mean())/X.std())\n",
    "X"
   ]
  },
  {
   "cell_type": "code",
   "execution_count": 6,
   "id": "c8b06838",
   "metadata": {},
   "outputs": [
    {
     "data": {
      "text/plain": [
       "array([ 1.56670793,  0.2381542 ,  1.87329725, ..., -0.47722088,\n",
       "       -0.17063156, -1.19259596])"
      ]
     },
     "execution_count": 6,
     "metadata": {},
     "output_type": "execute_result"
    }
   ],
   "source": [
    "y = np.array((y-y.mean())/y.std())\n",
    "y"
   ]
  },
  {
   "cell_type": "markdown",
   "id": "ca981a38",
   "metadata": {},
   "source": [
    "## To implement a gradient descent algorithm we need to follow 4 steps:\n",
    "    Randomly initialize the bias and the weight theta\n",
    "    Calculate predicted value of y that is Y given the bias and the weight\n",
    "    Calculate the cost function from predicted and actual values of Y\n",
    "    Calculate gradient and the weights"
   ]
  },
  {
   "cell_type": "markdown",
   "id": "0e93e3d8",
   "metadata": {},
   "source": [
    "## a. Randomly initialize the bias and the weight theta"
   ]
  },
  {
   "cell_type": "code",
   "execution_count": 7,
   "id": "aff39d64",
   "metadata": {},
   "outputs": [
    {
     "name": "stdout",
     "output_type": "stream",
     "text": [
      "Bias: 0.780344917671637 Weight: 0.9141830476370909\n"
     ]
    }
   ],
   "source": [
    "def initialize(x):\n",
    "    b=random()\n",
    "    theta=np.random.rand()\n",
    "    return b,theta\n",
    "b,theta=initialize(1)\n",
    "print('Bias:',b,'Weight:',theta)"
   ]
  },
  {
   "cell_type": "markdown",
   "id": "43872afc",
   "metadata": {},
   "source": [
    "## b. Calculate predicted value of y that is Y given the bias and the weight"
   ]
  },
  {
   "cell_type": "code",
   "execution_count": 8,
   "id": "6dc324db",
   "metadata": {},
   "outputs": [],
   "source": [
    "def preds(b,theta,X):\n",
    "    return b + np.dot(X,theta)"
   ]
  },
  {
   "cell_type": "code",
   "execution_count": 9,
   "id": "040c86be",
   "metadata": {},
   "outputs": [
    {
     "data": {
      "text/plain": [
       "array([ 3.08381326,  1.38466921,  2.62041034, ...,  1.48764764,\n",
       "        1.69360449, -0.21149641])"
      ]
     },
     "execution_count": 9,
     "metadata": {},
     "output_type": "execute_result"
    }
   ],
   "source": [
    "pred = preds(b,theta,X)\n",
    "pred"
   ]
  },
  {
   "cell_type": "markdown",
   "id": "45ccc522",
   "metadata": {},
   "source": [
    "## c. Calculate the cost function from predicted and actual values of Y"
   ]
  },
  {
   "cell_type": "code",
   "execution_count": 10,
   "id": "fb6c4fb6",
   "metadata": {},
   "outputs": [
    {
     "data": {
      "text/plain": [
       "1.191041297758373"
      ]
     },
     "execution_count": 10,
     "metadata": {},
     "output_type": "execute_result"
    }
   ],
   "source": [
    "def cost_f(y,pred):\n",
    "    yres=y-pred\n",
    "    return np.sum(np.dot(yres.T,yres))/len(y-yres)\n",
    "cost_f(y,pred)"
   ]
  },
  {
   "cell_type": "markdown",
   "id": "ebc52475",
   "metadata": {},
   "source": [
    "## d. Calculate gradient and the weights"
   ]
  },
  {
   "cell_type": "code",
   "execution_count": 11,
   "id": "5267344a",
   "metadata": {},
   "outputs": [
    {
     "name": "stdout",
     "output_type": "stream",
     "text": [
      "After initialization -Bias:  0.780344917671637 Weight:  0.9141830476370909\n",
      "After first update -Bias:  0.7647380193182046 Weight:  0.9141830476370909\n"
     ]
    },
    {
     "data": {
      "text/plain": [
       "1.191041297758373"
      ]
     },
     "execution_count": 11,
     "metadata": {},
     "output_type": "execute_result"
    }
   ],
   "source": [
    "def update_weights(x,y,pred,b_0,a_o,learning_rate):\n",
    "    db=(np.sum(pred-y)*2)/len(y)\n",
    "    dw=(np.dot((pred-y),x)*2)/len(y)\n",
    "    b_1=b_0-learning_rate*db\n",
    "    a_1=a_o-learning_rate*dw\n",
    "    return b_1,a_1\n",
    "print(\"After initialization -Bias: \",b,\"Weight: \",theta)\n",
    "pred=preds(b,theta,X)\n",
    "b,a=update_weights(X,y,pred,b,theta,0.01)\n",
    "print(\"After first update -Bias: \",b,\"Weight: \",theta)\n",
    "cost_f(y,pred)"
   ]
  },
  {
   "cell_type": "code",
   "execution_count": 12,
   "id": "2054d354",
   "metadata": {},
   "outputs": [],
   "source": [
    "def gradient_descent(X,y,alpha,num_iterations):\n",
    "    b,a=initialize(X.shape[0])\n",
    "    iter_num=0\n",
    "    d = []\n",
    "    result_idx=0\n",
    "    for each_iter in range(num_iterations):\n",
    "        pred = preds(b,theta,X)\n",
    "        this_cost=cost_f(y,pred)\n",
    "        prev_b=b\n",
    "        prev_theta=theta\n",
    "        b,a=update_weights(X,y,pred,b,theta,alpha)\n",
    "        d.append({\n",
    "            'iter_num': iter_num,\n",
    "            'cost': this_cost})\n",
    "        result_idx=result_idx+1\n",
    "        iter_num +=1\n",
    "        print('Final Estimate of b and theta : ',b,theta)\n",
    "    return b,theta,d"
   ]
  },
  {
   "cell_type": "code",
   "execution_count": 36,
   "id": "671122b2",
   "metadata": {},
   "outputs": [],
   "source": [
    "# b,theta,d = gradient_descent(X,y,alpha=0.1,num_iterations=200)"
   ]
  },
  {
   "cell_type": "code",
   "execution_count": 14,
   "id": "ea248ab6",
   "metadata": {},
   "outputs": [
    {
     "data": {
      "text/html": [
       "<div>\n",
       "<style scoped>\n",
       "    .dataframe tbody tr th:only-of-type {\n",
       "        vertical-align: middle;\n",
       "    }\n",
       "\n",
       "    .dataframe tbody tr th {\n",
       "        vertical-align: top;\n",
       "    }\n",
       "\n",
       "    .dataframe thead th {\n",
       "        text-align: right;\n",
       "    }\n",
       "</style>\n",
       "<table border=\"1\" class=\"dataframe\">\n",
       "  <thead>\n",
       "    <tr style=\"text-align: right;\">\n",
       "      <th></th>\n",
       "      <th>iter_num</th>\n",
       "      <th>cost</th>\n",
       "    </tr>\n",
       "  </thead>\n",
       "  <tbody>\n",
       "    <tr>\n",
       "      <th>0</th>\n",
       "      <td>0</td>\n",
       "      <td>0.659711</td>\n",
       "    </tr>\n",
       "    <tr>\n",
       "      <th>1</th>\n",
       "      <td>1</td>\n",
       "      <td>0.631772</td>\n",
       "    </tr>\n",
       "    <tr>\n",
       "      <th>2</th>\n",
       "      <td>2</td>\n",
       "      <td>0.613891</td>\n",
       "    </tr>\n",
       "    <tr>\n",
       "      <th>3</th>\n",
       "      <td>3</td>\n",
       "      <td>0.602448</td>\n",
       "    </tr>\n",
       "    <tr>\n",
       "      <th>4</th>\n",
       "      <td>4</td>\n",
       "      <td>0.595124</td>\n",
       "    </tr>\n",
       "    <tr>\n",
       "      <th>...</th>\n",
       "      <td>...</td>\n",
       "      <td>...</td>\n",
       "    </tr>\n",
       "    <tr>\n",
       "      <th>195</th>\n",
       "      <td>195</td>\n",
       "      <td>0.582103</td>\n",
       "    </tr>\n",
       "    <tr>\n",
       "      <th>196</th>\n",
       "      <td>196</td>\n",
       "      <td>0.582103</td>\n",
       "    </tr>\n",
       "    <tr>\n",
       "      <th>197</th>\n",
       "      <td>197</td>\n",
       "      <td>0.582103</td>\n",
       "    </tr>\n",
       "    <tr>\n",
       "      <th>198</th>\n",
       "      <td>198</td>\n",
       "      <td>0.582103</td>\n",
       "    </tr>\n",
       "    <tr>\n",
       "      <th>199</th>\n",
       "      <td>199</td>\n",
       "      <td>0.582103</td>\n",
       "    </tr>\n",
       "  </tbody>\n",
       "</table>\n",
       "<p>200 rows × 2 columns</p>\n",
       "</div>"
      ],
      "text/plain": [
       "     iter_num      cost\n",
       "0           0  0.659711\n",
       "1           1  0.631772\n",
       "2           2  0.613891\n",
       "3           3  0.602448\n",
       "4           4  0.595124\n",
       "..        ...       ...\n",
       "195       195  0.582103\n",
       "196       196  0.582103\n",
       "197       197  0.582103\n",
       "198       198  0.582103\n",
       "199       199  0.582103\n",
       "\n",
       "[200 rows x 2 columns]"
      ]
     },
     "execution_count": 14,
     "metadata": {},
     "output_type": "execute_result"
    }
   ],
   "source": [
    "alpha01 = pd.DataFrame(d)\n",
    "alpha01"
   ]
  },
  {
   "cell_type": "code",
   "execution_count": 37,
   "id": "59c74c6a",
   "metadata": {},
   "outputs": [],
   "source": [
    "# b,a,d = gradient_descent(X,y,alpha=0.01,num_iterations=200)"
   ]
  },
  {
   "cell_type": "code",
   "execution_count": 16,
   "id": "4c0d0aeb",
   "metadata": {},
   "outputs": [
    {
     "data": {
      "text/html": [
       "<div>\n",
       "<style scoped>\n",
       "    .dataframe tbody tr th:only-of-type {\n",
       "        vertical-align: middle;\n",
       "    }\n",
       "\n",
       "    .dataframe tbody tr th {\n",
       "        vertical-align: top;\n",
       "    }\n",
       "\n",
       "    .dataframe thead th {\n",
       "        text-align: right;\n",
       "    }\n",
       "</style>\n",
       "<table border=\"1\" class=\"dataframe\">\n",
       "  <thead>\n",
       "    <tr style=\"text-align: right;\">\n",
       "      <th></th>\n",
       "      <th>iter_num</th>\n",
       "      <th>cost</th>\n",
       "    </tr>\n",
       "  </thead>\n",
       "  <tbody>\n",
       "    <tr>\n",
       "      <th>0</th>\n",
       "      <td>0</td>\n",
       "      <td>0.582184</td>\n",
       "    </tr>\n",
       "    <tr>\n",
       "      <th>1</th>\n",
       "      <td>1</td>\n",
       "      <td>0.582181</td>\n",
       "    </tr>\n",
       "    <tr>\n",
       "      <th>2</th>\n",
       "      <td>2</td>\n",
       "      <td>0.582178</td>\n",
       "    </tr>\n",
       "    <tr>\n",
       "      <th>3</th>\n",
       "      <td>3</td>\n",
       "      <td>0.582175</td>\n",
       "    </tr>\n",
       "    <tr>\n",
       "      <th>4</th>\n",
       "      <td>4</td>\n",
       "      <td>0.582172</td>\n",
       "    </tr>\n",
       "    <tr>\n",
       "      <th>...</th>\n",
       "      <td>...</td>\n",
       "      <td>...</td>\n",
       "    </tr>\n",
       "    <tr>\n",
       "      <th>195</th>\n",
       "      <td>195</td>\n",
       "      <td>0.582103</td>\n",
       "    </tr>\n",
       "    <tr>\n",
       "      <th>196</th>\n",
       "      <td>196</td>\n",
       "      <td>0.582103</td>\n",
       "    </tr>\n",
       "    <tr>\n",
       "      <th>197</th>\n",
       "      <td>197</td>\n",
       "      <td>0.582103</td>\n",
       "    </tr>\n",
       "    <tr>\n",
       "      <th>198</th>\n",
       "      <td>198</td>\n",
       "      <td>0.582103</td>\n",
       "    </tr>\n",
       "    <tr>\n",
       "      <th>199</th>\n",
       "      <td>199</td>\n",
       "      <td>0.582103</td>\n",
       "    </tr>\n",
       "  </tbody>\n",
       "</table>\n",
       "<p>200 rows × 2 columns</p>\n",
       "</div>"
      ],
      "text/plain": [
       "     iter_num      cost\n",
       "0           0  0.582184\n",
       "1           1  0.582181\n",
       "2           2  0.582178\n",
       "3           3  0.582175\n",
       "4           4  0.582172\n",
       "..        ...       ...\n",
       "195       195  0.582103\n",
       "196       196  0.582103\n",
       "197       197  0.582103\n",
       "198       198  0.582103\n",
       "199       199  0.582103\n",
       "\n",
       "[200 rows x 2 columns]"
      ]
     },
     "execution_count": 16,
     "metadata": {},
     "output_type": "execute_result"
    }
   ],
   "source": [
    "alpha001 = pd.DataFrame(d)\n",
    "alpha001"
   ]
  },
  {
   "cell_type": "code",
   "execution_count": 38,
   "id": "18ec51a9",
   "metadata": {},
   "outputs": [],
   "source": [
    "# b,a,d = gradient_descent(X,y,alpha=0.001,num_iterations=200)"
   ]
  },
  {
   "cell_type": "code",
   "execution_count": 18,
   "id": "ee92e1e2",
   "metadata": {},
   "outputs": [
    {
     "data": {
      "text/html": [
       "<div>\n",
       "<style scoped>\n",
       "    .dataframe tbody tr th:only-of-type {\n",
       "        vertical-align: middle;\n",
       "    }\n",
       "\n",
       "    .dataframe tbody tr th {\n",
       "        vertical-align: top;\n",
       "    }\n",
       "\n",
       "    .dataframe thead th {\n",
       "        text-align: right;\n",
       "    }\n",
       "</style>\n",
       "<table border=\"1\" class=\"dataframe\">\n",
       "  <thead>\n",
       "    <tr style=\"text-align: right;\">\n",
       "      <th></th>\n",
       "      <th>iter_num</th>\n",
       "      <th>cost</th>\n",
       "    </tr>\n",
       "  </thead>\n",
       "  <tbody>\n",
       "    <tr>\n",
       "      <th>0</th>\n",
       "      <td>0</td>\n",
       "      <td>0.627555</td>\n",
       "    </tr>\n",
       "    <tr>\n",
       "      <th>1</th>\n",
       "      <td>1</td>\n",
       "      <td>0.627374</td>\n",
       "    </tr>\n",
       "    <tr>\n",
       "      <th>2</th>\n",
       "      <td>2</td>\n",
       "      <td>0.627193</td>\n",
       "    </tr>\n",
       "    <tr>\n",
       "      <th>3</th>\n",
       "      <td>3</td>\n",
       "      <td>0.627013</td>\n",
       "    </tr>\n",
       "    <tr>\n",
       "      <th>4</th>\n",
       "      <td>4</td>\n",
       "      <td>0.626833</td>\n",
       "    </tr>\n",
       "    <tr>\n",
       "      <th>...</th>\n",
       "      <td>...</td>\n",
       "      <td>...</td>\n",
       "    </tr>\n",
       "    <tr>\n",
       "      <th>195</th>\n",
       "      <td>195</td>\n",
       "      <td>0.602922</td>\n",
       "    </tr>\n",
       "    <tr>\n",
       "      <th>196</th>\n",
       "      <td>196</td>\n",
       "      <td>0.602839</td>\n",
       "    </tr>\n",
       "    <tr>\n",
       "      <th>197</th>\n",
       "      <td>197</td>\n",
       "      <td>0.602756</td>\n",
       "    </tr>\n",
       "    <tr>\n",
       "      <th>198</th>\n",
       "      <td>198</td>\n",
       "      <td>0.602674</td>\n",
       "    </tr>\n",
       "    <tr>\n",
       "      <th>199</th>\n",
       "      <td>199</td>\n",
       "      <td>0.602592</td>\n",
       "    </tr>\n",
       "  </tbody>\n",
       "</table>\n",
       "<p>200 rows × 2 columns</p>\n",
       "</div>"
      ],
      "text/plain": [
       "     iter_num      cost\n",
       "0           0  0.627555\n",
       "1           1  0.627374\n",
       "2           2  0.627193\n",
       "3           3  0.627013\n",
       "4           4  0.626833\n",
       "..        ...       ...\n",
       "195       195  0.602922\n",
       "196       196  0.602839\n",
       "197       197  0.602756\n",
       "198       198  0.602674\n",
       "199       199  0.602592\n",
       "\n",
       "[200 rows x 2 columns]"
      ]
     },
     "execution_count": 18,
     "metadata": {},
     "output_type": "execute_result"
    }
   ],
   "source": [
    "alpha0001 = pd.DataFrame(d)\n",
    "alpha0001"
   ]
  },
  {
   "cell_type": "code",
   "execution_count": 19,
   "id": "9780b51d",
   "metadata": {},
   "outputs": [
    {
     "data": {
      "text/plain": [
       "<matplotlib.legend.Legend at 0x1a31a4c08b0>"
      ]
     },
     "execution_count": 19,
     "metadata": {},
     "output_type": "execute_result"
    },
    {
     "data": {
      "image/png": "[encoded data removed]",
      "text/plain": [
       "<Figure size 640x480 with 1 Axes>"
      ]
     },
     "metadata": {},
     "output_type": "display_data"
    }
   ],
   "source": [
    "plt.figure()\n",
    "plt.plot(alpha01['iter_num'],alpha01['cost'],label='alpha=0.1')\n",
    "plt.legend()\n",
    "plt.plot(alpha001['iter_num'],alpha001['cost'],label='alpha=0.01')\n",
    "plt.legend()\n",
    "plt.plot(alpha0001['iter_num'],alpha0001['cost'],label='alpha=0.001')\n",
    "plt.legend()"
   ]
  },
  {
   "cell_type": "markdown",
   "id": "e717c112",
   "metadata": {},
   "source": [
    "# Version with 3 columns (metascore, reviews from critics, duration):"
   ]
  },
  {
   "cell_type": "code",
   "execution_count": 20,
   "id": "ce7c82d4",
   "metadata": {},
   "outputs": [
    {
     "data": {
      "text/html": [
       "<div>\n",
       "<style scoped>\n",
       "    .dataframe tbody tr th:only-of-type {\n",
       "        vertical-align: middle;\n",
       "    }\n",
       "\n",
       "    .dataframe tbody tr th {\n",
       "        vertical-align: top;\n",
       "    }\n",
       "\n",
       "    .dataframe thead th {\n",
       "        text-align: right;\n",
       "    }\n",
       "</style>\n",
       "<table border=\"1\" class=\"dataframe\">\n",
       "  <thead>\n",
       "    <tr style=\"text-align: right;\">\n",
       "      <th></th>\n",
       "      <th>avg_vote</th>\n",
       "      <th>metascore</th>\n",
       "      <th>reviews_from_critics</th>\n",
       "      <th>duration</th>\n",
       "    </tr>\n",
       "  </thead>\n",
       "  <tbody>\n",
       "    <tr>\n",
       "      <th>46</th>\n",
       "      <td>7.8</td>\n",
       "      <td>99.0</td>\n",
       "      <td>77.0</td>\n",
       "      <td>163</td>\n",
       "    </tr>\n",
       "    <tr>\n",
       "      <th>309</th>\n",
       "      <td>6.5</td>\n",
       "      <td>66.0</td>\n",
       "      <td>63.0</td>\n",
       "      <td>88</td>\n",
       "    </tr>\n",
       "    <tr>\n",
       "      <th>348</th>\n",
       "      <td>8.1</td>\n",
       "      <td>90.0</td>\n",
       "      <td>65.0</td>\n",
       "      <td>72</td>\n",
       "    </tr>\n",
       "    <tr>\n",
       "      <th>400</th>\n",
       "      <td>7.0</td>\n",
       "      <td>69.0</td>\n",
       "      <td>43.0</td>\n",
       "      <td>96</td>\n",
       "    </tr>\n",
       "    <tr>\n",
       "      <th>458</th>\n",
       "      <td>7.1</td>\n",
       "      <td>89.0</td>\n",
       "      <td>25.0</td>\n",
       "      <td>92</td>\n",
       "    </tr>\n",
       "    <tr>\n",
       "      <th>...</th>\n",
       "      <td>...</td>\n",
       "      <td>...</td>\n",
       "      <td>...</td>\n",
       "      <td>...</td>\n",
       "    </tr>\n",
       "    <tr>\n",
       "      <th>47426</th>\n",
       "      <td>5.2</td>\n",
       "      <td>44.0</td>\n",
       "      <td>13.0</td>\n",
       "      <td>104</td>\n",
       "    </tr>\n",
       "    <tr>\n",
       "      <th>47427</th>\n",
       "      <td>5.7</td>\n",
       "      <td>68.0</td>\n",
       "      <td>37.0</td>\n",
       "      <td>97</td>\n",
       "    </tr>\n",
       "    <tr>\n",
       "      <th>47439</th>\n",
       "      <td>5.8</td>\n",
       "      <td>68.0</td>\n",
       "      <td>5.0</td>\n",
       "      <td>113</td>\n",
       "    </tr>\n",
       "    <tr>\n",
       "      <th>47441</th>\n",
       "      <td>6.1</td>\n",
       "      <td>72.0</td>\n",
       "      <td>94.0</td>\n",
       "      <td>92</td>\n",
       "    </tr>\n",
       "    <tr>\n",
       "      <th>47443</th>\n",
       "      <td>5.1</td>\n",
       "      <td>35.0</td>\n",
       "      <td>64.0</td>\n",
       "      <td>88</td>\n",
       "    </tr>\n",
       "  </tbody>\n",
       "</table>\n",
       "<p>11531 rows × 4 columns</p>\n",
       "</div>"
      ],
      "text/plain": [
       "       avg_vote  metascore  reviews_from_critics  duration\n",
       "46          7.8       99.0                  77.0       163\n",
       "309         6.5       66.0                  63.0        88\n",
       "348         8.1       90.0                  65.0        72\n",
       "400         7.0       69.0                  43.0        96\n",
       "458         7.1       89.0                  25.0        92\n",
       "...         ...        ...                   ...       ...\n",
       "47426       5.2       44.0                  13.0       104\n",
       "47427       5.7       68.0                  37.0        97\n",
       "47439       5.8       68.0                   5.0       113\n",
       "47441       6.1       72.0                  94.0        92\n",
       "47443       5.1       35.0                  64.0        88\n",
       "\n",
       "[11531 rows x 4 columns]"
      ]
     },
     "execution_count": 20,
     "metadata": {},
     "output_type": "execute_result"
    }
   ],
   "source": [
    "df2 = df[['avg_vote','metascore','reviews_from_critics','duration']]\n",
    "df2 = df2.dropna()\n",
    "df2"
   ]
  },
  {
   "cell_type": "code",
   "execution_count": 21,
   "id": "edef4df6",
   "metadata": {},
   "outputs": [],
   "source": [
    "X = df2[['metascore','reviews_from_critics','duration']]\n",
    "y = df2['avg_vote']"
   ]
  },
  {
   "cell_type": "code",
   "execution_count": 22,
   "id": "2624c944",
   "metadata": {},
   "outputs": [
    {
     "data": {
      "text/plain": [
       "array([[ 2.52000202, -0.26133608,  2.90200561],\n",
       "       [ 0.66077124, -0.38827079, -0.81177297],\n",
       "       [ 2.01293908, -0.37013726, -1.60404574],\n",
       "       ...,\n",
       "       [ 0.77345189, -0.91414317,  0.42615322],\n",
       "       [ 0.9988132 , -0.10720107, -0.61370478],\n",
       "       [-1.0857789 , -0.37920403, -0.81177297]])"
      ]
     },
     "execution_count": 22,
     "metadata": {},
     "output_type": "execute_result"
    }
   ],
   "source": [
    "X = np.array((X-X.mean())/X.std())\n",
    "X"
   ]
  },
  {
   "cell_type": "code",
   "execution_count": 23,
   "id": "ca12af82",
   "metadata": {},
   "outputs": [
    {
     "data": {
      "text/plain": [
       "array([ 1.56661842,  0.23770948,  1.87328972, ..., -0.47785687,\n",
       "       -0.17118558, -1.19342323])"
      ]
     },
     "execution_count": 23,
     "metadata": {},
     "output_type": "execute_result"
    }
   ],
   "source": [
    "y = np.array((y-y.mean())/y.std())\n",
    "y"
   ]
  },
  {
   "cell_type": "markdown",
   "id": "e2064105",
   "metadata": {},
   "source": [
    "## Same steps"
   ]
  },
  {
   "cell_type": "code",
   "execution_count": 24,
   "id": "5e6517aa",
   "metadata": {},
   "outputs": [
    {
     "name": "stdout",
     "output_type": "stream",
     "text": [
      "Bias: 0.1332893189011074 Weights: [0.98392179 0.68804103 0.75541758]\n"
     ]
    }
   ],
   "source": [
    "def initialize(x):\n",
    "    b=random()\n",
    "    theta=np.random.rand(x)\n",
    "    return b,theta\n",
    "b,theta=initialize(3) ### this changes depending dimensions\n",
    "print('Bias:',b,'Weights:',theta)"
   ]
  },
  {
   "cell_type": "code",
   "execution_count": 25,
   "id": "37735c70",
   "metadata": {},
   "outputs": [
    {
     "data": {
      "text/plain": [
       "array([ 4.62519032, -0.09693727,  0.64746998, ...,  0.58726111,\n",
       "        0.57868127, -1.8091677 ])"
      ]
     },
     "execution_count": 25,
     "metadata": {},
     "output_type": "execute_result"
    }
   ],
   "source": [
    "def preds(b,theta,X):\n",
    "    return b + np.dot(X,theta)\n",
    "\n",
    "pred = preds(b,theta,X)\n",
    "pred"
   ]
  },
  {
   "cell_type": "code",
   "execution_count": 26,
   "id": "861da8ab",
   "metadata": {},
   "outputs": [
    {
     "data": {
      "text/plain": [
       "1.6343276515074396"
      ]
     },
     "execution_count": 26,
     "metadata": {},
     "output_type": "execute_result"
    }
   ],
   "source": [
    "def cost_f(y,pred):\n",
    "    yres=y-pred\n",
    "    return np.sum(np.dot(yres.T,yres))/len(y-yres)\n",
    "cost_f(y,pred)"
   ]
  },
  {
   "cell_type": "code",
   "execution_count": 27,
   "id": "b3a26ac1",
   "metadata": {},
   "outputs": [
    {
     "name": "stdout",
     "output_type": "stream",
     "text": [
      "After initialization -Bias:  0.1332893189011074 Weights:  [0.98392179 0.68804103 0.75541758]\n",
      "After first update -Bias:  0.13062353252308556 Weights:  [0.9709751  0.67182564 0.73962327]\n"
     ]
    },
    {
     "data": {
      "text/plain": [
       "1.6343276515074396"
      ]
     },
     "execution_count": 27,
     "metadata": {},
     "output_type": "execute_result"
    }
   ],
   "source": [
    "def update_weights(x,y,pred,b_0,a_o,learning_rate):\n",
    "    db=(np.sum(pred-y)*2)/len(y)\n",
    "    dw=(np.dot((pred-y),x)*2)/len(y)\n",
    "    b_1=b_0-learning_rate*db\n",
    "    a_1=a_o-learning_rate*dw\n",
    "    return b_1,a_1\n",
    "print(\"After initialization -Bias: \",b,\"Weights: \",theta)\n",
    "pred=preds(b,theta,X)\n",
    "b,theta=update_weights(X,y,pred,b,theta,0.01)\n",
    "print(\"After first update -Bias: \",b,\"Weights: \",theta)\n",
    "cost_f(y,pred)"
   ]
  },
  {
   "cell_type": "markdown",
   "id": "e327af10",
   "metadata": {},
   "source": [
    "# Final"
   ]
  },
  {
   "cell_type": "code",
   "execution_count": 28,
   "id": "994b5d61",
   "metadata": {},
   "outputs": [],
   "source": [
    "def gradient_descent(X,y,alpha,num_iterations):\n",
    "    b,a=initialize(X.shape[1])\n",
    "    iter_num=0\n",
    "    d = []\n",
    "    result_idx=0\n",
    "    for each_iter in range(num_iterations):\n",
    "        pred = preds(b,theta,X)\n",
    "        this_cost=cost_f(y,pred)\n",
    "        prev_b=b\n",
    "        prev_theta=theta\n",
    "        b,a=update_weights(X,y,pred,b,theta,alpha)\n",
    "        d.append({\n",
    "            'iter_num': iter_num,\n",
    "            'cost': this_cost})\n",
    "        result_idx=result_idx+1\n",
    "        iter_num +=1\n",
    "        print('Final Estimate of b and theta : ',b,theta)\n",
    "    return b,theta,d"
   ]
  },
  {
   "cell_type": "code",
   "execution_count": 39,
   "id": "8aa93375",
   "metadata": {},
   "outputs": [],
   "source": [
    "# b,theta,d = gradient_descent(X,y,alpha=0.1,num_iterations=200)"
   ]
  },
  {
   "cell_type": "code",
   "execution_count": 30,
   "id": "a2fbe8bf",
   "metadata": {},
   "outputs": [
    {
     "data": {
      "text/html": [
       "<div>\n",
       "<style scoped>\n",
       "    .dataframe tbody tr th:only-of-type {\n",
       "        vertical-align: middle;\n",
       "    }\n",
       "\n",
       "    .dataframe tbody tr th {\n",
       "        vertical-align: top;\n",
       "    }\n",
       "\n",
       "    .dataframe thead th {\n",
       "        text-align: right;\n",
       "    }\n",
       "</style>\n",
       "<table border=\"1\" class=\"dataframe\">\n",
       "  <thead>\n",
       "    <tr style=\"text-align: right;\">\n",
       "      <th></th>\n",
       "      <th>iter_num</th>\n",
       "      <th>cost</th>\n",
       "    </tr>\n",
       "  </thead>\n",
       "  <tbody>\n",
       "    <tr>\n",
       "      <th>0</th>\n",
       "      <td>0</td>\n",
       "      <td>1.812343</td>\n",
       "    </tr>\n",
       "    <tr>\n",
       "      <th>1</th>\n",
       "      <td>1</td>\n",
       "      <td>1.717746</td>\n",
       "    </tr>\n",
       "    <tr>\n",
       "      <th>2</th>\n",
       "      <td>2</td>\n",
       "      <td>1.657204</td>\n",
       "    </tr>\n",
       "    <tr>\n",
       "      <th>3</th>\n",
       "      <td>3</td>\n",
       "      <td>1.618457</td>\n",
       "    </tr>\n",
       "    <tr>\n",
       "      <th>4</th>\n",
       "      <td>4</td>\n",
       "      <td>1.593659</td>\n",
       "    </tr>\n",
       "    <tr>\n",
       "      <th>...</th>\n",
       "      <td>...</td>\n",
       "      <td>...</td>\n",
       "    </tr>\n",
       "    <tr>\n",
       "      <th>195</th>\n",
       "      <td>195</td>\n",
       "      <td>1.549573</td>\n",
       "    </tr>\n",
       "    <tr>\n",
       "      <th>196</th>\n",
       "      <td>196</td>\n",
       "      <td>1.549573</td>\n",
       "    </tr>\n",
       "    <tr>\n",
       "      <th>197</th>\n",
       "      <td>197</td>\n",
       "      <td>1.549573</td>\n",
       "    </tr>\n",
       "    <tr>\n",
       "      <th>198</th>\n",
       "      <td>198</td>\n",
       "      <td>1.549573</td>\n",
       "    </tr>\n",
       "    <tr>\n",
       "      <th>199</th>\n",
       "      <td>199</td>\n",
       "      <td>1.549573</td>\n",
       "    </tr>\n",
       "  </tbody>\n",
       "</table>\n",
       "<p>200 rows × 2 columns</p>\n",
       "</div>"
      ],
      "text/plain": [
       "     iter_num      cost\n",
       "0           0  1.812343\n",
       "1           1  1.717746\n",
       "2           2  1.657204\n",
       "3           3  1.618457\n",
       "4           4  1.593659\n",
       "..        ...       ...\n",
       "195       195  1.549573\n",
       "196       196  1.549573\n",
       "197       197  1.549573\n",
       "198       198  1.549573\n",
       "199       199  1.549573\n",
       "\n",
       "[200 rows x 2 columns]"
      ]
     },
     "execution_count": 30,
     "metadata": {},
     "output_type": "execute_result"
    }
   ],
   "source": [
    "alpha01 = pd.DataFrame(d)\n",
    "alpha01"
   ]
  },
  {
   "cell_type": "code",
   "execution_count": 40,
   "id": "dd2ba1c7",
   "metadata": {},
   "outputs": [],
   "source": [
    "# b,theta,d = gradient_descent(X,y,alpha=0.01,num_iterations=200)"
   ]
  },
  {
   "cell_type": "code",
   "execution_count": 32,
   "id": "5fc07f55",
   "metadata": {},
   "outputs": [
    {
     "data": {
      "text/html": [
       "<div>\n",
       "<style scoped>\n",
       "    .dataframe tbody tr th:only-of-type {\n",
       "        vertical-align: middle;\n",
       "    }\n",
       "\n",
       "    .dataframe tbody tr th {\n",
       "        vertical-align: top;\n",
       "    }\n",
       "\n",
       "    .dataframe thead th {\n",
       "        text-align: right;\n",
       "    }\n",
       "</style>\n",
       "<table border=\"1\" class=\"dataframe\">\n",
       "  <thead>\n",
       "    <tr style=\"text-align: right;\">\n",
       "      <th></th>\n",
       "      <th>iter_num</th>\n",
       "      <th>cost</th>\n",
       "    </tr>\n",
       "  </thead>\n",
       "  <tbody>\n",
       "    <tr>\n",
       "      <th>0</th>\n",
       "      <td>0</td>\n",
       "      <td>1.599893</td>\n",
       "    </tr>\n",
       "    <tr>\n",
       "      <th>1</th>\n",
       "      <td>1</td>\n",
       "      <td>1.597900</td>\n",
       "    </tr>\n",
       "    <tr>\n",
       "      <th>2</th>\n",
       "      <td>2</td>\n",
       "      <td>1.595986</td>\n",
       "    </tr>\n",
       "    <tr>\n",
       "      <th>3</th>\n",
       "      <td>3</td>\n",
       "      <td>1.594148</td>\n",
       "    </tr>\n",
       "    <tr>\n",
       "      <th>4</th>\n",
       "      <td>4</td>\n",
       "      <td>1.592383</td>\n",
       "    </tr>\n",
       "    <tr>\n",
       "      <th>...</th>\n",
       "      <td>...</td>\n",
       "      <td>...</td>\n",
       "    </tr>\n",
       "    <tr>\n",
       "      <th>195</th>\n",
       "      <td>195</td>\n",
       "      <td>1.549593</td>\n",
       "    </tr>\n",
       "    <tr>\n",
       "      <th>196</th>\n",
       "      <td>196</td>\n",
       "      <td>1.549592</td>\n",
       "    </tr>\n",
       "    <tr>\n",
       "      <th>197</th>\n",
       "      <td>197</td>\n",
       "      <td>1.549591</td>\n",
       "    </tr>\n",
       "    <tr>\n",
       "      <th>198</th>\n",
       "      <td>198</td>\n",
       "      <td>1.549590</td>\n",
       "    </tr>\n",
       "    <tr>\n",
       "      <th>199</th>\n",
       "      <td>199</td>\n",
       "      <td>1.549590</td>\n",
       "    </tr>\n",
       "  </tbody>\n",
       "</table>\n",
       "<p>200 rows × 2 columns</p>\n",
       "</div>"
      ],
      "text/plain": [
       "     iter_num      cost\n",
       "0           0  1.599893\n",
       "1           1  1.597900\n",
       "2           2  1.595986\n",
       "3           3  1.594148\n",
       "4           4  1.592383\n",
       "..        ...       ...\n",
       "195       195  1.549593\n",
       "196       196  1.549592\n",
       "197       197  1.549591\n",
       "198       198  1.549590\n",
       "199       199  1.549590\n",
       "\n",
       "[200 rows x 2 columns]"
      ]
     },
     "execution_count": 32,
     "metadata": {},
     "output_type": "execute_result"
    }
   ],
   "source": [
    "alpha001 = pd.DataFrame(d)\n",
    "alpha001"
   ]
  },
  {
   "cell_type": "code",
   "execution_count": 41,
   "id": "89084eee",
   "metadata": {},
   "outputs": [],
   "source": [
    "# b,theta,d = gradient_descent(X,y,alpha=0.001,num_iterations=200)"
   ]
  },
  {
   "cell_type": "code",
   "execution_count": 34,
   "id": "b9d9d901",
   "metadata": {},
   "outputs": [
    {
     "data": {
      "text/html": [
       "<div>\n",
       "<style scoped>\n",
       "    .dataframe tbody tr th:only-of-type {\n",
       "        vertical-align: middle;\n",
       "    }\n",
       "\n",
       "    .dataframe tbody tr th {\n",
       "        vertical-align: top;\n",
       "    }\n",
       "\n",
       "    .dataframe thead th {\n",
       "        text-align: right;\n",
       "    }\n",
       "</style>\n",
       "<table border=\"1\" class=\"dataframe\">\n",
       "  <thead>\n",
       "    <tr style=\"text-align: right;\">\n",
       "      <th></th>\n",
       "      <th>iter_num</th>\n",
       "      <th>cost</th>\n",
       "    </tr>\n",
       "  </thead>\n",
       "  <tbody>\n",
       "    <tr>\n",
       "      <th>0</th>\n",
       "      <td>0</td>\n",
       "      <td>2.232402</td>\n",
       "    </tr>\n",
       "    <tr>\n",
       "      <th>1</th>\n",
       "      <td>1</td>\n",
       "      <td>2.229674</td>\n",
       "    </tr>\n",
       "    <tr>\n",
       "      <th>2</th>\n",
       "      <td>2</td>\n",
       "      <td>2.226956</td>\n",
       "    </tr>\n",
       "    <tr>\n",
       "      <th>3</th>\n",
       "      <td>3</td>\n",
       "      <td>2.224249</td>\n",
       "    </tr>\n",
       "    <tr>\n",
       "      <th>4</th>\n",
       "      <td>4</td>\n",
       "      <td>2.221553</td>\n",
       "    </tr>\n",
       "    <tr>\n",
       "      <th>...</th>\n",
       "      <td>...</td>\n",
       "      <td>...</td>\n",
       "    </tr>\n",
       "    <tr>\n",
       "      <th>195</th>\n",
       "      <td>195</td>\n",
       "      <td>1.862342</td>\n",
       "    </tr>\n",
       "    <tr>\n",
       "      <th>196</th>\n",
       "      <td>196</td>\n",
       "      <td>1.861092</td>\n",
       "    </tr>\n",
       "    <tr>\n",
       "      <th>197</th>\n",
       "      <td>197</td>\n",
       "      <td>1.859847</td>\n",
       "    </tr>\n",
       "    <tr>\n",
       "      <th>198</th>\n",
       "      <td>198</td>\n",
       "      <td>1.858607</td>\n",
       "    </tr>\n",
       "    <tr>\n",
       "      <th>199</th>\n",
       "      <td>199</td>\n",
       "      <td>1.857372</td>\n",
       "    </tr>\n",
       "  </tbody>\n",
       "</table>\n",
       "<p>200 rows × 2 columns</p>\n",
       "</div>"
      ],
      "text/plain": [
       "     iter_num      cost\n",
       "0           0  2.232402\n",
       "1           1  2.229674\n",
       "2           2  2.226956\n",
       "3           3  2.224249\n",
       "4           4  2.221553\n",
       "..        ...       ...\n",
       "195       195  1.862342\n",
       "196       196  1.861092\n",
       "197       197  1.859847\n",
       "198       198  1.858607\n",
       "199       199  1.857372\n",
       "\n",
       "[200 rows x 2 columns]"
      ]
     },
     "execution_count": 34,
     "metadata": {},
     "output_type": "execute_result"
    }
   ],
   "source": [
    "alpha0001 = pd.DataFrame(d)\n",
    "alpha0001"
   ]
  },
  {
   "cell_type": "code",
   "execution_count": 35,
   "id": "0b40e180",
   "metadata": {},
   "outputs": [
    {
     "data": {
      "text/plain": [
       "<matplotlib.legend.Legend at 0x1a31a5372e0>"
      ]
     },
     "execution_count": 35,
     "metadata": {},
     "output_type": "execute_result"
    },
    {
     "data": {
      "image/png": "[encoded data removed]",
      "text/plain": [
       "<Figure size 640x480 with 1 Axes>"
      ]
     },
     "metadata": {},
     "output_type": "display_data"
    }
   ],
   "source": [
    "plt.figure()\n",
    "plt.plot(alpha01['iter_num'],alpha01['cost'],label='alpha=0.1')\n",
    "plt.legend()\n",
    "plt.plot(alpha001['iter_num'],alpha001['cost'],label='alpha=0.01')\n",
    "plt.legend()\n",
    "plt.plot(alpha0001['iter_num'],alpha0001['cost'],label='alpha=0.001')\n",
    "plt.legend()"
   ]
  },
  {
   "cell_type": "code",
   "execution_count": null,
   "id": "4f1b687c",
   "metadata": {},
   "outputs": [],
   "source": []
  }
 ],
 "metadata": {
  "kernelspec": {
   "display_name": "Python 3 (ipykernel)",
   "language": "python",
   "name": "python3"
  },
  "language_info": {
   "codemirror_mode": {
    "name": "ipython",
    "version": 3
   },
   "file_extension": ".py",
   "mimetype": "text/x-python",
   "name": "python",
   "nbconvert_exporter": "python",
   "pygments_lexer": "ipython3",
   "version": "3.8.10"
  }
 },
 "nbformat": 4,
 "nbformat_minor": 5
}
